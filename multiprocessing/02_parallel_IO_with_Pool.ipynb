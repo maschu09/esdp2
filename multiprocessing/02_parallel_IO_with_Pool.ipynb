{
 "cells": [
  {
   "cell_type": "markdown",
   "id": "909440b2-596c-4fc6-9d0c-afcc2cac32a2",
   "metadata": {},
   "source": [
    "# Demonstrate parallel IO with multiprocessing.Pool in Python\n",
    "\n",
    "## Introduction\n",
    "\n",
    "You can use processes for IO-bound tasks, although threads may be a better fit.\n",
    "\n",
    "An IO-bound task is a type of task that involves reading from or writing to a device, file, or socket connection.\n",
    "\n",
    "The operations involve input and output (IO) and the speed of these operations is bound by the device, hard drive, or network connection. This is why these tasks are referred to as IO-bound.\n",
    "\n",
    "CPUs are really fast. Modern CPUs like a 4GHz can execute 4 billion instructions per second, and you likely have more than one CPU in your system.\n",
    "\n",
    "Doing IO is very slow compared to the speed of CPUs.\n",
    "\n",
    "Interacting with devices, reading and writing files, and socket connections involves calling instructions in your operating system (the kernel), which will wait for the operation to complete. If this operation is the main focus for your CPU, such as executing in the main thread of your Python program, then your CPU is going to wait many milliseconds or even many seconds doing nothing.\n",
    "\n",
    "That is potentially billions of operations that it is prevented from executing.\n",
    "\n",
    "We can free-up the CPU from IO-bound operations by performing IO-bound operations on another process of execution. This allows the CPU to start the task and pass it off to the operating system (kernel) to do the waiting, and free it up to execute in another application process.\n",
    "\n",
    "There's more to it under the covers, but this is the gist.\n",
    "\n",
    "Therefore, the tasks we execute with a multiprocessing.Pool can be tasks that involve IO operations.\n",
    "\n",
    "Examples include:\n",
    "\n",
    "* Reading or writing a file from the hard drive.\n",
    "* Reading or writing to standard output, input, or error (stdin, stdout, stderr).\n",
    "* Printing a document.\n",
    "* Downloading or uploading a file.\n",
    "* Querying a server.\n",
    "* Querying a database.\n",
    "* Taking a photo or recording a video.\n",
    "\n",
    "And so much more.\n",
    "\n",
    "Source: https://superfastpython.com/multiprocessing-pool-python/.\n",
    "\n",
    "## Objective\n",
    "\n",
    "Write a multi-process program to download and process ERA5 data from the CDS API of [https://confluence.ecmwf.int/display/CKB/Please+read%3A+CDS+and+ADS+migrating+to+new+infrastructure%3A+Common+Data+Store+%28CDS%29+Engine](ECMWF). Note that this API has recently been upgraded - please check for updates on the documentation page.\n",
    "\n",
    "The final goal of this programming activity shall be to establish a database of extreme weather events diagnosed from the ERA5 dataset. For this, we need to download many ERA5 files and inspect their content. We will run a couple of diagnostic tests to identify extreme events and save these events in a database. In this program, we only experiment with using a multiprocessing.Pool for parallel file downloads from the API. You can change the number of parallel processes and compare results.\n",
    "\n",
    "## Preparation\n",
    "\n",
    "Create a new CDS-Beta account and accept CDS-Beta Terms & Conditions at [https://cds-beta.climate.copernicus.eu/](CDS-Beta).\n",
    "\n",
    "Download the data from https://raw.githubusercontent.com.\n",
    "In a terminal window type \n",
    "```wget https://raw.githubusercontent.com/SuperFastPython/DataSets/main/bin/1m_words.txt.zip```\n",
    "Then unzip the file with `unzip 1m_words.txt.zip`\n",
    "You can remove the `__MACOS/` folder afterwards."
   ]
  },
  {
   "cell_type": "code",
   "execution_count": null,
   "id": "3aae23db-75d2-4c1d-a175-3d71742a0f09",
   "metadata": {},
   "outputs": [],
   "source": [
    "from multiprocessing.pool import ThreadPool    \n",
    "# ThreadPool is better for IO than (process)Pool; see https://superfastpython.com/multiprocessing-pool-python/\n",
    "# Threadpools can manage thousands of threads and they use shared memory, i.e. no data needs to be pickled for exchange between tasks\n",
    "\n"
   ]
  },
  {
   "cell_type": "code",
   "execution_count": null,
   "id": "1a7e615f-3cf0-4ce9-8050-5eb95e513403",
   "metadata": {},
   "outputs": [],
   "source": [
    "# how to obtain process and task name and number\n",
    "from multiprocessing import current_process\n",
    "from multiprocessing.threading import current_thread\n",
    "\n",
    "def get_process_and_thread():\n",
    "    print(f'Current process {current_process()}, current thread {current_thread()}')\n",
    "    "
   ]
  },
  {
   "cell_type": "code",
   "execution_count": null,
   "id": "df1e1119-4335-417d-adb3-d7e6e4db05a4",
   "metadata": {},
   "outputs": [],
   "source": [
    "# print number of available CPUs\n",
    "print(os.cpu_count())\n",
    "# set number of processes for multiprocessing pool\n",
    "processes = 8"
   ]
  },
  {
   "cell_type": "code",
   "execution_count": null,
   "id": "3c57a9c4-9950-4751-9eea-13809378856f",
   "metadata": {},
   "outputs": [],
   "source": [
    "# set up CDS API \n",
    "import cdsapi\n",
    "\n",
    "c = cdsapi.Client()"
   ]
  },
  {
   "cell_type": "code",
   "execution_count": null,
   "id": "d9dfc43e-ad8b-43ad-8ae0-8fe2f0a67876",
   "metadata": {},
   "outputs": [],
   "source": [
    "# define variables of interest and their grib codes\n",
    "# ***ToDo***: replace with correct grib codes and extend\n",
    "vars = {'temperature': 130,\n",
    "        'specific humidity': 111,\n",
    "        'surface pressure': 111,\n",
    "        '10-m wind speed': 111}"
   ]
  },
  {
   "cell_type": "code",
   "execution_count": null,
   "id": "5a0c2b24-d2f3-4d6e-b219-bf6181777b5f",
   "metadata": {},
   "outputs": [],
   "source": [
    "# define MARS request for ERA5 retrieval\n",
    "# *** ToDo *** use templates for date, variable, ...\n",
    "# ***ToDo***: distinguish between 3d and surface variables\n",
    "thisvar = 'temperature'\n",
    "firstdate = '2023-01-01'\n",
    "lastdate = '2023-01-31'\n",
    "c.retrieve(\"reanalysis-era5-complete\", {\n",
    "    \"class\": \"ea\",\n",
    "    \"date\": f\"{firstdate}/to/{lastdate}\",\n",
    "    \"expver\": \"1\",\n",
    "    \"levelist\": \"137\",\n",
    "    \"levtype\": \"ml\",\n",
    "    \"param\": f\"{vars[thisvar]}\",\n",
    "    \"step\": \"0\",\n",
    "    \"stream\": \"oper\",\n",
    "    \"time\": \"09:00:00/21:00:00\",\n",
    "    \"type\": \"4v\",\n",
    "    \"format\": \"netcdf\"\n",
    "}, f\"era5_{thisvar}_{firstdate}_{lastdate}.nc\")\n",
    "\n",
    "# see CDS and ERA5 documentation..."
   ]
  },
  {
   "cell_type": "code",
   "execution_count": null,
   "id": "f61730fc-c9ca-4649-a9d1-70050a8963e0",
   "metadata": {},
   "outputs": [],
   "source": [
    "# define processing list (dates and/or variables)"
   ]
  },
  {
   "cell_type": "code",
   "execution_count": null,
   "id": "eba1e6bb-4044-4ee0-b79c-b2caaf172521",
   "metadata": {},
   "outputs": [],
   "source": [
    "# set up MultiThread pool and execute processes"
   ]
  },
  {
   "cell_type": "code",
   "execution_count": null,
   "id": "85bbb861-8f54-471a-a5f2-2fd68dd1186b",
   "metadata": {},
   "outputs": [],
   "source": []
  }
 ],
 "metadata": {
  "kernelspec": {
   "display_name": "Python 3 (ipykernel)",
   "language": "python",
   "name": "python3"
  },
  "language_info": {
   "codemirror_mode": {
    "name": "ipython",
    "version": 3
   },
   "file_extension": ".py",
   "mimetype": "text/x-python",
   "name": "python",
   "nbconvert_exporter": "python",
   "pygments_lexer": "ipython3",
   "version": "3.10.10"
  }
 },
 "nbformat": 4,
 "nbformat_minor": 5
}
